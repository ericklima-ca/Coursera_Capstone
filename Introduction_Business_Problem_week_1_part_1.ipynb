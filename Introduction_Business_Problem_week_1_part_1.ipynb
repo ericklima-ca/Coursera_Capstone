{
  "nbformat": 4,
  "nbformat_minor": 0,
  "metadata": {
    "colab": {
      "name": "Introduction/Business Problem - week 1 - part 1.ipynb",
      "provenance": [],
      "collapsed_sections": []
    },
    "kernelspec": {
      "name": "python3",
      "display_name": "Python 3"
    }
  },
  "cells": [
    {
      "cell_type": "markdown",
      "metadata": {
        "id": "FaTzEKbu-vox"
      },
      "source": [
        "# 1. Introduction"
      ]
    },
    {
      "cell_type": "markdown",
      "metadata": {
        "id": "21dSpGmz-zop"
      },
      "source": [
        "## 1.1 Introduction/Business Problem"
      ]
    },
    {
      "cell_type": "markdown",
      "metadata": {
        "id": "58KrOw7F-YXG"
      },
      "source": [
        "The goal with this is to analyze the geographical data through the Foursquare API to try to locate the most suitable place to live in Toronto, especially.\r\n",
        "\r\n",
        "The problem lies in finding the most suitable location based on a person's preference for coffee.\r\n",
        "\r\n",
        "In this case, given the options in Toronto and taking the 3 neighborhoods more frequently in the data from the previous analysis on Toronto, what would be the best place to live, that is, the location that has the most coffee shops."
      ]
    }
  ]
}