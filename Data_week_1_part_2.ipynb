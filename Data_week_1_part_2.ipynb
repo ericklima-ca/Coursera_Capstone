{
  "nbformat": 4,
  "nbformat_minor": 0,
  "metadata": {
    "colab": {
      "name": "Introduction/Business Problem - week 1 - part 2.ipynb",
      "provenance": [],
      "collapsed_sections": []
    },
    "kernelspec": {
      "name": "python3",
      "display_name": "Python 3"
    }
  },
  "cells": [
    {
      "cell_type": "markdown",
      "metadata": {
        "id": "FaTzEKbu-vox"
      },
      "source": [
        "# 1. Introduction"
      ]
    },
    {
      "cell_type": "markdown",
      "metadata": {
        "id": "21dSpGmz-zop"
      },
      "source": [
        "## 1.1 Introduction/Business Problem"
      ]
    },
    {
      "cell_type": "markdown",
      "metadata": {
        "id": "58KrOw7F-YXG"
      },
      "source": [
        "The goal with this is to analyze the geographical data through the Foursquare API to try to locate the most suitable place to live in Toronto, especially.\r\n",
        "\r\n",
        "The problem lies in finding the most suitable location based on a person's preference for coffee.\r\n",
        "\r\n",
        "In this case, given the options in Toronto and taking the 3 neighborhoods more frequently in the data from the previous analysis on Toronto, what would be the best place to live, that is, the location that has the most coffee shops."
      ]
    },
    {
      "cell_type": "markdown",
      "metadata": {
        "id": "9kF8N4tzBmex"
      },
      "source": [
        "## 1.2 Data"
      ]
    },
    {
      "cell_type": "markdown",
      "metadata": {
        "id": "kuotJxRrBsgk"
      },
      "source": [
        "The data collected for this analysis are available at the following links:\r\n",
        "- Wikipedia page containing data on postal codes in Toronto:\r\n",
        " - https://en.wikipedia.org/wiki/List_of_postal_codes_of_Canada:_M\r\n",
        "-Link with latitude and longitude coordinates for crossing data from postal codes:\r\n",
        " - https://cocl.us/Geospatial_data\r\n"
      ]
    },
    {
      "cell_type": "markdown",
      "metadata": {
        "id": "qCANcTQTDRGv"
      },
      "source": [
        "Here's what the dataframe looks like with the initial data:"
      ]
    },
    {
      "cell_type": "markdown",
      "metadata": {
        "id": "VDNHS3FqB3hU"
      },
      "source": [
        "| |Postal Code|\tBorough\t|Neighbourhood|\tLatitude |\tLongitude|\r\n",
        "|-|----------|----------|-------------|----------|-----------|\r\n",
        "|0|M3A|\tNorth York|\tParkwoods       | 43.753259|-79.329656|\r\n",
        "|1|\tM4A|\tNorth York|\tVictoria Village|\t43.725882|-79.315572|\r\n",
        "|2|\tM5A|\tDowntown Toronto|\tRegent Park, Harbourfront|\t43.654260|\t-79.360636|\r\n",
        "|3|\tM6A|\tNorth York|\tLawrence Manor, Lawrence Heights|\t43.718518|\t-79.464763|\r\n",
        "|4|\tM7A|\tDowntown Toronto|\tQueen's Park, Ontario Provincial Government|\t43.662301|\t-79.389494|\r\n",
        "|5|\tM9A|\tEtobicoke|\tIslington Avenue, Humber Valley Village|\t43.667856|\t-79.532242|\r\n",
        "|6|\tM1B|\tScarborough|\tMalvern, Rouge|\t43.806686|\t-79.194353|\r\n",
        "|7|\tM3B|\tNorth York|\tDon Mills|\t43.745906|\t-79.352188|\r\n",
        "|8|\tM4B|\tEast York|\tParkview Hill, Woodbine Gardens|\t43.706397|\t-79.309937|\r\n",
        "|9|\tM5B|\tDowntown Toronto|\tGarden District, Ryerson|\t43.657162|\t-79.378937|"
      ]
    },
    {
      "cell_type": "markdown",
      "metadata": {
        "id": "Rwada7GJGO68"
      },
      "source": [
        "From this dataframe the 3 neighborhoods with the highest frequency were removed.\r\n",
        "\r\n",
        "The dataframe with frequencies looks like this:"
      ]
    },
    {
      "cell_type": "markdown",
      "metadata": {
        "id": "jUjDgdJ6GeJr"
      },
      "source": [
        "|Borough | Frequency|\r\n",
        "|-|--------|\r\n",
        "|North York|\t24\t\r\n",
        "|Downtown Toronto|\t19\r\n",
        "|Scarborough|\t17"
      ]
    }
  ]
}
